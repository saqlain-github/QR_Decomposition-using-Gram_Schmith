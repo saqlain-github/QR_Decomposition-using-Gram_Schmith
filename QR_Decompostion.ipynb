{
 "cells": [
  {
   "cell_type": "code",
   "execution_count": 1,
   "id": "9a60ff6a-d808-434c-98fc-41ab1cc928a5",
   "metadata": {},
   "outputs": [],
   "source": [
    "import random\n",
    "from math import sqrt\n",
    "import numpy as np"
   ]
  },
  {
   "cell_type": "code",
   "execution_count": 2,
   "id": "a6bcbf3c-f2b6-4f05-bc15-61ebc7421e7a",
   "metadata": {},
   "outputs": [
    {
     "name": "stdout",
     "output_type": "stream",
     "text": [
      "448 272\n",
      "[[3.7804 1.6636 6.0108 ... 7.5953 4.9764 4.6985]\n",
      " [7.4126 5.1814 3.2216 ... 4.412  0.0734 2.8478]\n",
      " [1.5838 1.7548 7.1103 ... 8.0686 4.9106 4.3293]\n",
      " ...\n",
      " [6.5516 9.0471 3.5165 ... 4.563  4.635  5.7243]\n",
      " [7.1193 2.3601 1.4689 ... 0.91   8.8152 1.0229]\n",
      " [2.8532 7.4199 4.5593 ... 9.7104 9.0151 8.7814]]\n",
      "Frobenius Norm : 1999.24439\n",
      "1999.24439\n"
     ]
    }
   ],
   "source": [
    "def frobeniusNorm(mat,row,col):\n",
    "    sumSq = 0\n",
    "    for i in range(row):\n",
    "        for j in range(col):\n",
    "            sumSq += pow(mat[i][j], 2)\n",
    "    res = sqrt(sumSq)\n",
    "    print(\"Frobenius Norm : \"+str(round(res,5)),end=\"\\n\")\n",
    "    return round(res, 5)\n",
    "\n",
    "m = random.randint(2,1000)\n",
    "n = random.randint(1,m-1)\n",
    "rnd = 4\n",
    "\n",
    "matrix =  np.around(np.array(np.random.uniform(0,9.9,m*n),dtype=float),decimals = rnd).reshape(m,n)\n",
    "print(m,n)\n",
    "print(matrix)\n",
    "print(frobeniusNorm(matrix,m,n))"
   ]
  },
  {
   "cell_type": "code",
   "execution_count": 3,
   "id": "27090e33-a48e-41c0-b7e1-5d3e6edac9f8",
   "metadata": {},
   "outputs": [],
   "source": [
    "#Gram-Schmidt Algorithm\n",
    "#didnt do using rank, so consider that also later\n",
    "\n",
    "def orthogonal(matrix):\n",
    "    size = matrix.shape[1]\n",
    "    for i in range(0,size-1):\n",
    "        for j in range(i,size):\n",
    "            print(i,j,np.sum(np.multiply(matrix[:,i],matrix[:,j])))\n",
    "            if  i == j : \n",
    "                print(\"Skipped at: \",i,j)\n",
    "                continue\n",
    "            if np.sum(np.multiply(matrix[:,i],matrix[:,j])) != 0:\n",
    "                \n",
    "                return \"Not Orthogonal\"\n",
    "    return \"Orthogonal\"\n",
    "\n",
    "#---------------------------------------------------------------------------\n",
    "#using Rank Method\n",
    "def rank(matrix):\n",
    "    return np.linalg.matrix_rank(np.transpose(matrix))\n",
    "def gram_schidth(matrix):\n",
    "    if rank(matrix) == matrix.shape[1]:\n",
    "        return \"Gram-Schmidth Algo Applicable\"\n",
    "    else :\n",
    "        return \"Not Applicable\"\n",
    "    "
   ]
  },
  {
   "cell_type": "code",
   "execution_count": 4,
   "id": "07830c22-6f15-4641-8240-daa1a7591ced",
   "metadata": {},
   "outputs": [],
   "source": [
    "def projection(ai, ui):\n",
    "    return (np.dot(ai,ui)/np.linalg.norm(ui)**2)* ui\n",
    "\n",
    "def gram_schmith_Q(X):\n",
    "    Y = []\n",
    "    for i in range(len(X)):\n",
    "        temp_vec = X[i]\n",
    "        proj_vec = np.zeros(len(temp_vec))\n",
    "        for inY in Y :\n",
    "            proj_vec += projection(X[i],inY)\n",
    "        tmp = X[i] - proj_vec\n",
    "        normalized_Y =  tmp/np.linalg.norm(tmp)\n",
    "        Y.append(normalized_Y)\n",
    "    return Y\n",
    "\n",
    "def gram_schmith_R(Q,matrix):\n",
    "    R = np.dot(Q,matrix)\n",
    "    for i in range(R.shape[0]):\n",
    "        for j in range(R.shape[1]):\n",
    "            if i > j:\n",
    "                R[i,j] = 0\n",
    "    return R "
   ]
  },
  {
   "cell_type": "code",
   "execution_count": 5,
   "id": "f25ff200-7dd4-433b-a39a-f8b4e3b12678",
   "metadata": {},
   "outputs": [
    {
     "name": "stdout",
     "output_type": "stream",
     "text": [
      "Gram-Schmidth Algo Applicable\n"
     ]
    }
   ],
   "source": [
    "#each verter is column wise, \n",
    "#matrix = np.array([[10, 20, 30], [20, 40, 50], [10,20,0]])\n",
    "matrix = np.array([[1,1,1],\n",
    "                   [0,1,0],\n",
    "                   [1,-1,0]])\n",
    "print(gram_schidth(matrix))"
   ]
  },
  {
   "cell_type": "code",
   "execution_count": 6,
   "id": "5e777204-9884-4937-97e2-4032e9057188",
   "metadata": {},
   "outputs": [
    {
     "name": "stdout",
     "output_type": "stream",
     "text": [
      "[[ 5.00000000e-01  5.00000000e-01  5.00000000e-01  5.00000000e-01]\n",
      " [-8.66025404e-01  2.88675135e-01  2.88675135e-01  2.88675135e-01]\n",
      " [ 1.35973996e-16 -8.16496581e-01  4.08248290e-01  4.08248290e-01]]\n",
      "[[2.         1.5        1.        ]\n",
      " [0.         0.8660254  0.57735027]\n",
      " [0.         0.         0.81649658]]\n"
     ]
    }
   ],
   "source": [
    "matrix = np.array([[1, 0, 0], [1, 1, 0], [1, 1, 1],[1,1,1]])\n",
    "Q = gram_schmith_Q(np.transpose(matrix))\n",
    "Q = np.array(Q)\n",
    "R = gram_schmith_R(Q,matrix)\n",
    "print(Q,R,sep=\"\\n\")"
   ]
  },
  {
   "cell_type": "code",
   "execution_count": null,
   "id": "fe79fd9b-e7e6-4a23-9d9e-d2193684f72a",
   "metadata": {},
   "outputs": [],
   "source": []
  }
 ],
 "metadata": {
  "kernelspec": {
   "display_name": "Python 3 (ipykernel)",
   "language": "python",
   "name": "python3"
  },
  "language_info": {
   "codemirror_mode": {
    "name": "ipython",
    "version": 3
   },
   "file_extension": ".py",
   "mimetype": "text/x-python",
   "name": "python",
   "nbconvert_exporter": "python",
   "pygments_lexer": "ipython3",
   "version": "3.9.7"
  }
 },
 "nbformat": 4,
 "nbformat_minor": 5
}
